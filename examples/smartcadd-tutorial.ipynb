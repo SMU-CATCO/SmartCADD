{
 "cells": [
  {
   "cell_type": "code",
   "execution_count": null,
   "metadata": {},
   "outputs": [],
   "source": [
    "import os\n",
    "import sys\n",
    "import pandas as pd\n",
    "\n",
    "import smartcadd\n",
    "from smartcadd.dataset import IterableDataset\n",
    "from smartcadd.pipeline import BasicCompoundPipeline\n",
    "\n",
    "DATA_DIR = \"./example_data\"\n",
    "MODEL_DIR = \"./example_models\"\n",
    "\n",
    "os.listdir(DATA_DIR)"
   ]
  },
  {
   "cell_type": "markdown",
   "metadata": {},
   "source": [
    "## Building a Pipeline out of Dummy filters\n"
   ]
  },
  {
   "cell_type": "markdown",
   "metadata": {},
   "source": [
    "### Create a Dataset Iterator\n"
   ]
  },
  {
   "cell_type": "code",
   "execution_count": null,
   "metadata": {},
   "outputs": [],
   "source": [
    "dataset = IterableDataset(\n",
    "    root_dir=DATA_DIR,\n",
    "    batch_size=10,\n",
    ")\n",
    "len(dataset)"
   ]
  },
  {
   "cell_type": "markdown",
   "metadata": {},
   "source": [
    "### Build the pipeline\n"
   ]
  },
  {
   "cell_type": "code",
   "execution_count": null,
   "metadata": {},
   "outputs": [],
   "source": [
    "from smartcadd.filters import DummyFilter\n",
    "\n",
    "pipeline = BasicCompoundPipeline(\n",
    "    data_loader=dataset,\n",
    "    filters=[\n",
    "        DummyFilter(),\n",
    "        DummyFilter(),\n",
    "    ],\n",
    ")\n",
    "\n",
    "print(pipeline)"
   ]
  },
  {
   "cell_type": "markdown",
   "metadata": {},
   "source": [
    "### Loop through dataset iterator and run filters for each batch\n"
   ]
  },
  {
   "cell_type": "code",
   "execution_count": null,
   "metadata": {},
   "outputs": [],
   "source": [
    "pipeline_results = pipeline.run_filters(steps=1)\n",
    "pipeline_results"
   ]
  },
  {
   "cell_type": "markdown",
   "metadata": {},
   "source": [
    "## Let's build a basic pipeline with real filters\n"
   ]
  },
  {
   "cell_type": "markdown",
   "metadata": {},
   "source": [
    "### Wrap a pretrained model for use in ModelFilter\n"
   ]
  },
  {
   "cell_type": "code",
   "execution_count": null,
   "metadata": {},
   "outputs": [],
   "source": [
    "os.listdir(MODEL_DIR)"
   ]
  },
  {
   "cell_type": "code",
   "execution_count": 5,
   "metadata": {},
   "outputs": [],
   "source": [
    "from smartcadd.model_wrappers import AttentiveFPWrapper\n",
    "\n",
    "MODEL_PARAMS_PATH = os.path.join(MODEL_DIR, \"attentive_fp_model_params.pt\")\n",
    "\n",
    "model_wrapper = AttentiveFPWrapper(\n",
    "    model_params_path=MODEL_PARAMS_PATH,\n",
    "    mode=\"classification\",\n",
    "    n_tasks=1,\n",
    "    dropout=0.3,\n",
    "    num_timesteps=2,  # defaut=2\n",
    "    num_layers=2,  # default = 2\n",
    "    graph_feat_size=200,  # default = 200\n",
    "    number_atom_features=30,  # default = 30\n",
    "    number_bond_features=11,  # default = 11\n",
    "    batch_size=100,\n",
    "    learning_rate=0.001,\n",
    "    regularization_loss=None,\n",
    "    device=\"cpu\",\n",
    ")\n",
    "model_wrapper.load()"
   ]
  },
  {
   "cell_type": "markdown",
   "metadata": {},
   "source": [
    "### Build basic pipeline and add ModelFilter\n"
   ]
  },
  {
   "cell_type": "code",
   "execution_count": null,
   "metadata": {},
   "outputs": [],
   "source": [
    "from smartcadd.filters import ModelFilter, ADMETFilter\n",
    "\n",
    "deep_learning_pipeline = BasicCompoundPipeline(\n",
    "    data_loader=dataset,\n",
    "    filters=[\n",
    "        ModelFilter(\n",
    "            model_wrapper=model_wrapper,\n",
    "            target=1,\n",
    "            threshold=0.5,\n",
    "            output_dir=\"./data\",\n",
    "            save_results=True,\n",
    "        ),\n",
    "    ],\n",
    ")\n",
    "print(deep_learning_pipeline)"
   ]
  },
  {
   "cell_type": "markdown",
   "metadata": {},
   "source": [
    "### Run the pipeline\n"
   ]
  },
  {
   "cell_type": "code",
   "execution_count": null,
   "metadata": {},
   "outputs": [],
   "source": [
    "deep_learning_pipeline.run_filters(steps=1)"
   ]
  },
  {
   "cell_type": "markdown",
   "metadata": {},
   "source": [
    "### Check results in saved csv\n"
   ]
  },
  {
   "cell_type": "code",
   "execution_count": null,
   "metadata": {},
   "outputs": [],
   "source": [
    "deep_learning_results = pd.read_csv(\"./data/model_filtered.csv\")\n",
    "deep_learning_results[deep_learning_results[\"Prediction\"] > 0.0]"
   ]
  },
  {
   "cell_type": "markdown",
   "metadata": {},
   "source": [
    "## Building a custom filter using the Filter Interface\n"
   ]
  },
  {
   "cell_type": "code",
   "execution_count": 9,
   "metadata": {},
   "outputs": [],
   "source": [
    "from smartcadd.filters import Filter\n",
    "from random import random\n",
    "\n",
    "\n",
    "class RandomFilter(Filter):\n",
    "    \"\"\"\n",
    "    An example filter that randomly selects compounds\n",
    "    \"\"\"\n",
    "\n",
    "    def __init__(self, threshold):\n",
    "        super().__init__()\n",
    "\n",
    "        self.threshold = threshold\n",
    "\n",
    "    def run(self, batch):\n",
    "\n",
    "        # select a random number of compounds to keep\n",
    "        mask = [random() > self.threshold for _ in range(len(batch))]\n",
    "        return [compound for compound, keep in zip(batch, mask) if keep]"
   ]
  },
  {
   "cell_type": "markdown",
   "metadata": {},
   "source": [
    "### Append new filter to existing Pipeline\n"
   ]
  },
  {
   "cell_type": "code",
   "execution_count": null,
   "metadata": {},
   "outputs": [],
   "source": [
    "deep_learning_pipeline.append_filter(RandomFilter(threshold=0.3))\n",
    "print(deep_learning_pipeline)"
   ]
  },
  {
   "cell_type": "code",
   "execution_count": null,
   "metadata": {},
   "outputs": [],
   "source": [
    "filtered_compounds = deep_learning_pipeline.run_filters(steps=5)\n",
    "print(f\"Length of results after filtering: {len(filtered_compounds)}\")"
   ]
  },
  {
   "cell_type": "markdown",
   "metadata": {},
   "source": [
    "### ADMET Filtering\n"
   ]
  },
  {
   "cell_type": "code",
   "execution_count": null,
   "metadata": {},
   "outputs": [],
   "source": [
    "from smartcadd.filters import ADMETFilter\n",
    "\n",
    "ALERT_COLLECTION_PATH = os.path.join(DATA_DIR, \"alert_collection.csv\")\n",
    "\n",
    "admet_pipeline = BasicCompoundPipeline(\n",
    "    data_loader=dataset,\n",
    "    filters=[\n",
    "        ADMETFilter(\n",
    "            alert_collection_path=ALERT_COLLECTION_PATH,\n",
    "            output_dir=\"./data\",\n",
    "            save_results=True,\n",
    "        ),\n",
    "    ],\n",
    ")\n",
    "print(admet_pipeline)"
   ]
  },
  {
   "cell_type": "code",
   "execution_count": null,
   "metadata": {},
   "outputs": [],
   "source": [
    "admet_filtered_compounds = admet_pipeline.run_filters(steps=5)\n",
    "print(f\"Length of batch after filtering: {len(admet_filtered_compounds)}\")"
   ]
  },
  {
   "cell_type": "markdown",
   "metadata": {},
   "source": [
    "### Check results in saved csv\n"
   ]
  },
  {
   "cell_type": "code",
   "execution_count": null,
   "metadata": {},
   "outputs": [],
   "source": [
    "import pandas as pd\n",
    "\n",
    "admet_results = pd.read_csv(\"./data/ADMET_filtered.csv\")\n",
    "admet_results[admet_results[\"keep\"] == False]"
   ]
  },
  {
   "cell_type": "markdown",
   "metadata": {},
   "source": [
    "## 2D Pharmacophore Filtering\n"
   ]
  },
  {
   "cell_type": "code",
   "execution_count": 15,
   "metadata": {},
   "outputs": [],
   "source": [
    "from smartcadd.data import Compound\n",
    "\n",
    "template_compound_smiles = {\n",
    "    \"rilpivirine\": \"CC1=CC(=CC(=C1NC2=NC(=NC=C2)NC3=CC=C(C=C3)C#N)C)/C=C/C#N\",\n",
    "    \"etravirine\": \"CC1=CC(=CC(=C1OC2=NC(=NC(=C2Br)N)NC3=CC=C(C=C3)C#N)C)C#N\",\n",
    "}\n",
    "\n",
    "template_compounds = [\n",
    "    Compound(smiles=smiles, id=drug)\n",
    "    for drug, smiles in template_compound_smiles.items()\n",
    "]"
   ]
  },
  {
   "cell_type": "markdown",
   "metadata": {},
   "source": [
    "### Check minimum values of template compounds for 2D Pharmacophore Filtering\n"
   ]
  },
  {
   "cell_type": "code",
   "execution_count": null,
   "metadata": {},
   "outputs": [],
   "source": [
    "min_df = pd.concat(compound.to_df() for compound in template_compounds)\n",
    "min_df.min(axis=0).to_dict()"
   ]
  },
  {
   "cell_type": "code",
   "execution_count": null,
   "metadata": {},
   "outputs": [],
   "source": [
    "from smartcadd.filters import PharmacophoreFilter2D\n",
    "\n",
    "pharmacophore_pipeline = BasicCompoundPipeline(\n",
    "    data_loader=dataset,\n",
    "    filters=[\n",
    "        PharmacophoreFilter2D(\n",
    "            template_compounds=template_compounds,\n",
    "            output_dir=\"./data\",\n",
    "            save_results=True,\n",
    "        ),\n",
    "    ],\n",
    ")\n",
    "print(pharmacophore_pipeline)"
   ]
  },
  {
   "cell_type": "code",
   "execution_count": null,
   "metadata": {},
   "outputs": [],
   "source": [
    "pharmacophore_filtered_compounds = pharmacophore_pipeline.run_filters(steps=20)\n",
    "print(\n",
    "    f\"Length of batch after filtering: {len(pharmacophore_filtered_compounds)}\"\n",
    ")"
   ]
  },
  {
   "cell_type": "markdown",
   "metadata": {},
   "source": [
    "## Data Type Conversion Modules and Geometry Optimization\n"
   ]
  },
  {
   "cell_type": "code",
   "execution_count": null,
   "metadata": {},
   "outputs": [],
   "source": [
    "from smartcadd.modules import SMILETo3D, XTBOptimization\n",
    "\n",
    "geometry_optimization_pipeline = BasicCompoundPipeline(\n",
    "    data_loader=dataset,\n",
    "    filters=[\n",
    "        SMILETo3D(\n",
    "            modify=True,\n",
    "            output_dir=\"./data\",\n",
    "            save_results=True,\n",
    "        ),\n",
    "    ],\n",
    ")\n",
    "print(geometry_optimization_pipeline)\n",
    "print(\"Saving 3D coordinates to ./data/3D_coordinates.csv\")"
   ]
  },
  {
   "cell_type": "code",
   "execution_count": 20,
   "metadata": {},
   "outputs": [],
   "source": [
    "transformed_compounds = geometry_optimization_pipeline.run_filters(steps=1)"
   ]
  },
  {
   "cell_type": "markdown",
   "metadata": {},
   "source": [
    "### Load newly created pdb file paths\n"
   ]
  },
  {
   "cell_type": "code",
   "execution_count": null,
   "metadata": {},
   "outputs": [],
   "source": [
    "pdb_csv = pd.read_csv(\"./data/3D_coordinates.csv\")\n",
    "pdb_csv"
   ]
  },
  {
   "cell_type": "markdown",
   "metadata": {},
   "source": [
    "## Geometry Optimization using XTB\n"
   ]
  },
  {
   "cell_type": "code",
   "execution_count": null,
   "metadata": {},
   "outputs": [],
   "source": [
    "from smartcadd.modules import XTBOptimization\n",
    "\n",
    "geometry_optimization_pipeline.append_filter(\n",
    "    XTBOptimization(\n",
    "        from_file=True,\n",
    "        pdb_dir=\"./data/3D_coordinates\",\n",
    "        output_dir=\"./data\",\n",
    "        n_processes=16,\n",
    "        save_results=True,\n",
    "    )\n",
    ")\n",
    "print(geometry_optimization_pipeline)"
   ]
  },
  {
   "cell_type": "code",
   "execution_count": null,
   "metadata": {},
   "outputs": [],
   "source": [
    "optimized_compounds = geometry_optimization_pipeline.run_filters(steps=1)"
   ]
  },
  {
   "cell_type": "code",
   "execution_count": null,
   "metadata": {},
   "outputs": [],
   "source": []
  },
  {
   "cell_type": "code",
   "execution_count": null,
   "metadata": {},
   "outputs": [],
   "source": []
  }
 ],
 "metadata": {
  "kernelspec": {
   "display_name": "Python 3 (ipykernel)",
   "language": "python",
   "name": "python3"
  },
  "language_info": {
   "codemirror_mode": {
    "name": "ipython",
    "version": 3
   },
   "file_extension": ".py",
   "mimetype": "text/x-python",
   "name": "python",
   "nbconvert_exporter": "python",
   "pygments_lexer": "ipython3",
   "version": "3.11.8"
  }
 },
 "nbformat": 4,
 "nbformat_minor": 2
}
